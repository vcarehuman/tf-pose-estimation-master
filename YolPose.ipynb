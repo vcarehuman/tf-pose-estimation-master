{
  "nbformat": 4,
  "nbformat_minor": 0,
  "metadata": {
    "colab": {
      "name": "YolPose.ipynb",
      "provenance": [],
      "authorship_tag": "ABX9TyOAmbBDgNs5Hd+XW0zlwVSd",
      "include_colab_link": true
    },
    "kernelspec": {
      "name": "python3",
      "display_name": "Python 3"
    },
    "accelerator": "GPU"
  },
  "cells": [
    {
      "cell_type": "markdown",
      "metadata": {
        "id": "view-in-github",
        "colab_type": "text"
      },
      "source": [
        "<a href=\"https://colab.research.google.com/github/vcarehuman/tf-pose-estimation-master/blob/master/YolPose.ipynb\" target=\"_parent\"><img src=\"https://colab.research.google.com/assets/colab-badge.svg\" alt=\"Open In Colab\"/></a>"
      ]
    },
    {
      "cell_type": "code",
      "metadata": {
        "id": "KqPcWJ-crhgQ",
        "colab_type": "code",
        "outputId": "0423ca8e-d07c-4553-f5d5-f30e4ec6a263",
        "colab": {
          "base_uri": "https://localhost:8080/",
          "height": 34
        }
      },
      "source": [
        "%cd /content"
      ],
      "execution_count": 0,
      "outputs": [
        {
          "output_type": "stream",
          "text": [
            "/content\n"
          ],
          "name": "stdout"
        }
      ]
    },
    {
      "cell_type": "code",
      "metadata": {
        "id": "0HJtQjpEronp",
        "colab_type": "code",
        "outputId": "3cd40b79-ca00-4471-b9a3-a8c47442871f",
        "colab": {
          "base_uri": "https://localhost:8080/",
          "height": 136
        }
      },
      "source": [
        "!git clone https://github.com/vcarehuman/tf-pose-estimation-master.git"
      ],
      "execution_count": 0,
      "outputs": [
        {
          "output_type": "stream",
          "text": [
            "Cloning into 'tf-pose-estimation-master'...\n",
            "remote: Enumerating objects: 7, done.\u001b[K\n",
            "remote: Counting objects:  14% (1/7)\u001b[K\rremote: Counting objects:  28% (2/7)\u001b[K\rremote: Counting objects:  42% (3/7)\u001b[K\rremote: Counting objects:  57% (4/7)\u001b[K\rremote: Counting objects:  71% (5/7)\u001b[K\rremote: Counting objects:  85% (6/7)\u001b[K\rremote: Counting objects: 100% (7/7)\u001b[K\rremote: Counting objects: 100% (7/7), done.\u001b[K\n",
            "remote: Compressing objects: 100% (7/7), done.\u001b[K\n",
            "remote: Total 339 (delta 1), reused 0 (delta 0), pack-reused 332\u001b[K\n",
            "Receiving objects: 100% (339/339), 123.32 MiB | 49.66 MiB/s, done.\n",
            "Resolving deltas: 100% (24/24), done.\n"
          ],
          "name": "stdout"
        }
      ]
    },
    {
      "cell_type": "code",
      "metadata": {
        "id": "Yk42Gj6FueKc",
        "colab_type": "code",
        "outputId": "04c8fbf5-766d-4563-e166-c6ec7cb9a788",
        "colab": {
          "base_uri": "https://localhost:8080/",
          "height": 34
        }
      },
      "source": [
        "%cd /content/tf-pose-estimation-master/src/external/DCNv2"
      ],
      "execution_count": 0,
      "outputs": [
        {
          "output_type": "stream",
          "text": [
            "/content/tf-pose-estimation-master/src/external/DCNv2\n"
          ],
          "name": "stdout"
        }
      ]
    },
    {
      "cell_type": "code",
      "metadata": {
        "id": "JG8C_SJhum-6",
        "colab_type": "code",
        "colab": {}
      },
      "source": [
        "!python setup.py build develop"
      ],
      "execution_count": 0,
      "outputs": []
    },
    {
      "cell_type": "code",
      "metadata": {
        "id": "MzDTXV1GvAQY",
        "colab_type": "code",
        "outputId": "54ee096c-7c4b-4873-d870-e130350edf91",
        "colab": {
          "base_uri": "https://localhost:8080/",
          "height": 34
        }
      },
      "source": [
        "%cd /content/tf-pose-estimation-master"
      ],
      "execution_count": 51,
      "outputs": [
        {
          "output_type": "stream",
          "text": [
            "/content/tf-pose-estimation-master\n"
          ],
          "name": "stdout"
        }
      ]
    },
    {
      "cell_type": "code",
      "metadata": {
        "id": "oW9_pPyAvjN0",
        "colab_type": "code",
        "colab": {}
      },
      "source": [
        "!mkdir -p /content/tf-pose-estimation-master/src/weights"
      ],
      "execution_count": 0,
      "outputs": []
    },
    {
      "cell_type": "code",
      "metadata": {
        "id": "z919zsLnvmia",
        "colab_type": "code",
        "outputId": "9d7f8cac-a12f-4a0f-85ba-c1082089e266",
        "colab": {
          "base_uri": "https://localhost:8080/",
          "height": 34
        }
      },
      "source": [
        "%cd /content"
      ],
      "execution_count": 0,
      "outputs": [
        {
          "output_type": "stream",
          "text": [
            "/content\n"
          ],
          "name": "stdout"
        }
      ]
    },
    {
      "cell_type": "code",
      "metadata": {
        "id": "kYXmEaotvyFK",
        "colab_type": "code",
        "outputId": "9d6e5c7e-c9f6-4b8e-f6d6-020b298dde82",
        "colab": {
          "base_uri": "https://localhost:8080/",
          "height": 85
        }
      },
      "source": [
        "!git clone https://github.com/chentinghao/download_google_drive.git"
      ],
      "execution_count": 0,
      "outputs": [
        {
          "output_type": "stream",
          "text": [
            "Cloning into 'download_google_drive'...\n",
            "remote: Enumerating objects: 16, done.\u001b[K\n",
            "remote: Total 16 (delta 0), reused 0 (delta 0), pack-reused 16\u001b[K\n",
            "Unpacking objects:   6% (1/16)   \rUnpacking objects:  12% (2/16)   \rUnpacking objects:  18% (3/16)   \rUnpacking objects:  25% (4/16)   \rUnpacking objects:  31% (5/16)   \rUnpacking objects:  37% (6/16)   \rUnpacking objects:  43% (7/16)   \rUnpacking objects:  50% (8/16)   \rUnpacking objects:  56% (9/16)   \rUnpacking objects:  62% (10/16)   \rUnpacking objects:  68% (11/16)   \rUnpacking objects:  75% (12/16)   \rUnpacking objects:  81% (13/16)   \rUnpacking objects:  87% (14/16)   \rUnpacking objects:  93% (15/16)   \rUnpacking objects: 100% (16/16)   \rUnpacking objects: 100% (16/16), done.\n"
          ],
          "name": "stdout"
        }
      ]
    },
    {
      "cell_type": "code",
      "metadata": {
        "id": "TXORNCpcv1iB",
        "colab_type": "code",
        "outputId": "1898677f-83a7-4582-9bcd-01c59918a8b9",
        "colab": {
          "base_uri": "https://localhost:8080/",
          "height": 34
        }
      },
      "source": [
        "!python ./download_google_drive/download_gdrive.py 15id0Qq5eqRbkD-N3ZjDZXdCvRyIaHpFB ./tf-pose-estimation-master/src/weights/yolact_plus_base_54_800000.pth"
      ],
      "execution_count": 0,
      "outputs": [
        {
          "output_type": "stream",
          "text": [
            "201MB [00:02, 71.4MB/s]\n"
          ],
          "name": "stdout"
        }
      ]
    },
    {
      "cell_type": "code",
      "metadata": {
        "id": "JM0-hxOowHSi",
        "colab_type": "code",
        "outputId": "f5bcb9e1-4fbd-4de0-e13e-3ae265806bde",
        "colab": {
          "base_uri": "https://localhost:8080/",
          "height": 34
        }
      },
      "source": [
        "%cd /content/tf-pose-estimation-master/src"
      ],
      "execution_count": 81,
      "outputs": [
        {
          "output_type": "stream",
          "text": [
            "/content/tf-pose-estimation-master/src\n"
          ],
          "name": "stdout"
        }
      ]
    },
    {
      "cell_type": "code",
      "metadata": {
        "id": "OXkZ9u619XRs",
        "colab_type": "code",
        "colab": {}
      },
      "source": [
        "!mkdir /content/tf-pose-estimation-master/src/output_images"
      ],
      "execution_count": 0,
      "outputs": []
    },
    {
      "cell_type": "code",
      "metadata": {
        "id": "YbUmeuHcGIVL",
        "colab_type": "code",
        "outputId": "2c39ba8f-70d2-4e25-9660-d4652dbc2150",
        "colab": {
          "base_uri": "https://localhost:8080/",
          "height": 34
        }
      },
      "source": [
        "%cd /content"
      ],
      "execution_count": 77,
      "outputs": [
        {
          "output_type": "stream",
          "text": [
            "/content\n"
          ],
          "name": "stdout"
        }
      ]
    },
    {
      "cell_type": "code",
      "metadata": {
        "id": "eMm-XtMY9h7S",
        "colab_type": "code",
        "outputId": "39d0ec23-774c-418c-b70e-0023bf515916",
        "colab": {
          "base_uri": "https://localhost:8080/",
          "height": 34
        }
      },
      "source": [
        "!python ./download_google_drive/download_gdrive.py 1ofQdJG-hLUOA_tpu6gFFvT7DWMjCHeJf ./tf-pose-estimation-master/src/graph_opt.pb"
      ],
      "execution_count": 80,
      "outputs": [
        {
          "output_type": "stream",
          "text": [
            "566MB [00:02, 234MB/s]\n"
          ],
          "name": "stdout"
        }
      ]
    },
    {
      "cell_type": "code",
      "metadata": {
        "id": "BA7YuPiiwMTq",
        "colab_type": "code",
        "outputId": "35a51c17-cc85-4f18-9e06-54d1c3870aa6",
        "colab": {
          "base_uri": "https://localhost:8080/",
          "height": 478
        }
      },
      "source": [
        "!python eval.py"
      ],
      "execution_count": 82,
      "outputs": [
        {
          "output_type": "stream",
          "text": [
            "WARNING:tensorflow:\n",
            "The TensorFlow contrib module will not be included in TensorFlow 2.0.\n",
            "For more information, please see:\n",
            "  * https://github.com/tensorflow/community/blob/master/rfcs/20180907-contrib-sunset.md\n",
            "  * https://github.com/tensorflow/addons\n",
            "  * https://github.com/tensorflow/io (for I/O related ops)\n",
            "If you depend on functionality not listed there, please file an issue.\n",
            "\n",
            "WARNING:tensorflow:From /content/tf-pose-estimation-master/src/estimator.py:283: The name tf.gfile.GFile is deprecated. Please use tf.io.gfile.GFile instead.\n",
            "\n",
            "graph_opt.pb\n",
            "WARNING:tensorflow:From /content/tf-pose-estimation-master/src/estimator.py:285: The name tf.GraphDef is deprecated. Please use tf.compat.v1.GraphDef instead.\n",
            "\n",
            "Traceback (most recent call last):\n",
            "  File \"eval.py\", line 1136, in <module>\n",
            "    parse_args()\n",
            "  File \"eval.py\", line 171, in parse_args\n",
            "    e = TfPoseEstimator('graph_opt.pb', target_size=(width_ori, height_ori))\n",
            "  File \"/content/tf-pose-estimation-master/src/estimator.py\", line 286, in __init__\n",
            "    graph_def.ParseFromString(f.read())\n",
            "google.protobuf.message.DecodeError: Error parsing message\n",
            "Exception ignored in: <bound method TfPoseEstimator.__del__ of <estimator.TfPoseEstimator object at 0x7fd84958be10>>\n",
            "Traceback (most recent call last):\n",
            "  File \"/content/tf-pose-estimation-master/src/estimator.py\", line 309, in __del__\n",
            "    self.persistent_sess.close()\n",
            "AttributeError: 'TfPoseEstimator' object has no attribute 'persistent_sess'\n"
          ],
          "name": "stdout"
        }
      ]
    }
  ]
}